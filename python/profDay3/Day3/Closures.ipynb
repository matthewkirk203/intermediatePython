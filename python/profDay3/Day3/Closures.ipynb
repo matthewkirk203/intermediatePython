{
 "cells": [
  {
   "cell_type": "markdown",
   "metadata": {},
   "source": [
    "# Closures\n",
    "Is a record storing a function together with an environment: a mapping associating each free variable of the function with the value or storage location to which the name was bound when the closure was created. \n",
    "\n",
    "Note: Unlike a regular function, closures allows the function to access those capture variables through the closure's reference to them. "
   ]
  },
  {
   "cell_type": "code",
   "execution_count": 1,
   "metadata": {
    "collapsed": true
   },
   "outputs": [],
   "source": [
    "def outer_func():\n",
    "    message = \"Hi\"\n",
    "    def inner_func():\n",
    "        print(message)\n",
    "    \n",
    "    return inner_func"
   ]
  },
  {
   "cell_type": "code",
   "execution_count": 3,
   "metadata": {},
   "outputs": [
    {
     "name": "stdout",
     "output_type": "stream",
     "text": [
      "<function outer_func.<locals>.inner_func at 0x000002AA0B6D6A60>\n",
      "inner_func\n"
     ]
    }
   ],
   "source": [
    "# Test it\n",
    "myf = outer_func()\n",
    "print(myf)\n",
    "print(myf.__name__)"
   ]
  },
  {
   "cell_type": "code",
   "execution_count": 4,
   "metadata": {},
   "outputs": [
    {
     "name": "stdout",
     "output_type": "stream",
     "text": [
      "Hi\n",
      "Hi\n"
     ]
    }
   ],
   "source": [
    "# Execute the function\n",
    "myf()\n",
    "myf()"
   ]
  },
  {
   "cell_type": "code",
   "execution_count": 5,
   "metadata": {
    "collapsed": true
   },
   "outputs": [],
   "source": [
    "def outer_func(msg):\n",
    "    message = msg\n",
    "    def inner_func():\n",
    "        print(message)\n",
    "    \n",
    "    return inner_func"
   ]
  },
  {
   "cell_type": "code",
   "execution_count": 7,
   "metadata": {},
   "outputs": [
    {
     "name": "stdout",
     "output_type": "stream",
     "text": [
      "Hi\n",
      "(<cell at 0x000002AA0B6E34C8: str object at 0x000002AA0B6D2D88>,)\n",
      "Hola\n"
     ]
    }
   ],
   "source": [
    "# Test it\n",
    "myf1 = outer_func(\"Hi\")\n",
    "myf2 = outer_func(\"Hola\")\n",
    "# Run it\n",
    "myf1()\n",
    "print(myf1.__closure__)\n",
    "myf2()"
   ]
  },
  {
   "cell_type": "markdown",
   "metadata": {},
   "source": [
    "## Nonlocal Keyword\n",
    "Demo on new name binding for a message variable"
   ]
  },
  {
   "cell_type": "code",
   "execution_count": 12,
   "metadata": {},
   "outputs": [
    {
     "name": "stdout",
     "output_type": "stream",
     "text": [
      "Enclosing message: global\n",
      "Enclosing message: enclosing\n",
      "Enclosing message: local\n",
      "Enclosing message: local\n",
      "Enclosing message: global\n"
     ]
    }
   ],
   "source": [
    "message = \"global\"\n",
    "def enclosing():\n",
    "    message = \"enclosing\"\n",
    "    def local():\n",
    "        #message = \"local\"\n",
    "        #global message\n",
    "        nonlocal message\n",
    "        message = \"local\"\n",
    "        print(\"Enclosing message:\", message)\n",
    "        \n",
    "    print(\"Enclosing message:\", message)\n",
    "    local()\n",
    "    print(\"Enclosing message:\", message)\n",
    "\n",
    "print(\"Enclosing message:\", message)\n",
    "enclosing()\n",
    "print(\"Enclosing message:\", message)"
   ]
  },
  {
   "cell_type": "code",
   "execution_count": null,
   "metadata": {
    "collapsed": true
   },
   "outputs": [],
   "source": []
  }
 ],
 "metadata": {
  "kernelspec": {
   "display_name": "Python 3",
   "language": "python",
   "name": "python3"
  },
  "language_info": {
   "codemirror_mode": {
    "name": "ipython",
    "version": 3
   },
   "file_extension": ".py",
   "mimetype": "text/x-python",
   "name": "python",
   "nbconvert_exporter": "python",
   "pygments_lexer": "ipython3",
   "version": "3.5.1"
  }
 },
 "nbformat": 4,
 "nbformat_minor": 2
}
